{
  "nbformat": 4,
  "nbformat_minor": 0,
  "metadata": {
    "colab": {
      "provenance": []
    },
    "kernelspec": {
      "name": "python3",
      "display_name": "Python 3"
    },
    "language_info": {
      "name": "python"
    }
  },
  "cells": [
    {
      "cell_type": "code",
      "execution_count": 1,
      "metadata": {
        "colab": {
          "base_uri": "https://localhost:8080/",
          "height": 0
        },
        "id": "LUuonF1wsG_d",
        "outputId": "d51fbe34-3453-41c1-8618-3f8cc16f2b65"
      },
      "outputs": [
        {
          "output_type": "stream",
          "name": "stdout",
          "text": [
            "Collecting pyspark\n",
            "  Downloading pyspark-3.5.0.tar.gz (316.9 MB)\n",
            "\u001b[2K     \u001b[90m━━━━━━━━━━━━━━━━━━━━━━━━━━━━━━━━━━━━━━━━\u001b[0m \u001b[32m316.9/316.9 MB\u001b[0m \u001b[31m4.4 MB/s\u001b[0m eta \u001b[36m0:00:00\u001b[0m\n",
            "\u001b[?25h  Preparing metadata (setup.py) ... \u001b[?25l\u001b[?25hdone\n",
            "Requirement already satisfied: py4j==0.10.9.7 in /usr/local/lib/python3.10/dist-packages (from pyspark) (0.10.9.7)\n",
            "Building wheels for collected packages: pyspark\n",
            "  Building wheel for pyspark (setup.py) ... \u001b[?25l\u001b[?25hdone\n",
            "  Created wheel for pyspark: filename=pyspark-3.5.0-py2.py3-none-any.whl size=317425345 sha256=c41e813164cbd978d4687ae725f129263bff5a91c732cc9c498fc59f4a1d1616\n",
            "  Stored in directory: /root/.cache/pip/wheels/41/4e/10/c2cf2467f71c678cfc8a6b9ac9241e5e44a01940da8fbb17fc\n",
            "Successfully built pyspark\n",
            "Installing collected packages: pyspark\n",
            "Successfully installed pyspark-3.5.0\n"
          ]
        }
      ],
      "source": [
        "!pip install pyspark"
      ]
    },
    {
      "cell_type": "code",
      "source": [
        "# necessary libraries\n",
        "import pandas as pd"
      ],
      "metadata": {
        "id": "z1r0JqMhseTL"
      },
      "execution_count": 2,
      "outputs": []
    },
    {
      "cell_type": "code",
      "source": [
        "import io"
      ],
      "metadata": {
        "id": "TgRFKFsKyfYK"
      },
      "execution_count": 3,
      "outputs": []
    },
    {
      "cell_type": "code",
      "source": [
        "from google.colab import files\n",
        "import pandas as pd\n",
        "\n",
        "# Upload the CSV file to Colab\n",
        "uploaded = files.upload()\n",
        "\n",
        "# Get the file path in Colab\n",
        "file_path = next(iter(uploaded))\n",
        "\n",
        "# Read the CSV file into a Pandas DataFrame\n",
        "df = pd.read_csv(io.StringIO(uploaded[file_path].decode('utf-8')))\n",
        "\n",
        "# Continue with your existing code...\n",
        "# ...\n",
        "\n",
        "# For example, you can print the first few rows of the DataFrame\n",
        "print(df.head())\n"
      ],
      "metadata": {
        "colab": {
          "base_uri": "https://localhost:8080/",
          "height": 455
        },
        "id": "LDI7j3B7sgzF",
        "outputId": "deec082d-7658-4776-fb3e-ba18290b93d6"
      },
      "execution_count": 4,
      "outputs": [
        {
          "output_type": "display_data",
          "data": {
            "text/plain": [
              "<IPython.core.display.HTML object>"
            ],
            "text/html": [
              "\n",
              "     <input type=\"file\" id=\"files-1bc8e90f-2646-48e2-8b8c-899aa4d5a15c\" name=\"files[]\" multiple disabled\n",
              "        style=\"border:none\" />\n",
              "     <output id=\"result-1bc8e90f-2646-48e2-8b8c-899aa4d5a15c\">\n",
              "      Upload widget is only available when the cell has been executed in the\n",
              "      current browser session. Please rerun this cell to enable.\n",
              "      </output>\n",
              "      <script>// Copyright 2017 Google LLC\n",
              "//\n",
              "// Licensed under the Apache License, Version 2.0 (the \"License\");\n",
              "// you may not use this file except in compliance with the License.\n",
              "// You may obtain a copy of the License at\n",
              "//\n",
              "//      http://www.apache.org/licenses/LICENSE-2.0\n",
              "//\n",
              "// Unless required by applicable law or agreed to in writing, software\n",
              "// distributed under the License is distributed on an \"AS IS\" BASIS,\n",
              "// WITHOUT WARRANTIES OR CONDITIONS OF ANY KIND, either express or implied.\n",
              "// See the License for the specific language governing permissions and\n",
              "// limitations under the License.\n",
              "\n",
              "/**\n",
              " * @fileoverview Helpers for google.colab Python module.\n",
              " */\n",
              "(function(scope) {\n",
              "function span(text, styleAttributes = {}) {\n",
              "  const element = document.createElement('span');\n",
              "  element.textContent = text;\n",
              "  for (const key of Object.keys(styleAttributes)) {\n",
              "    element.style[key] = styleAttributes[key];\n",
              "  }\n",
              "  return element;\n",
              "}\n",
              "\n",
              "// Max number of bytes which will be uploaded at a time.\n",
              "const MAX_PAYLOAD_SIZE = 100 * 1024;\n",
              "\n",
              "function _uploadFiles(inputId, outputId) {\n",
              "  const steps = uploadFilesStep(inputId, outputId);\n",
              "  const outputElement = document.getElementById(outputId);\n",
              "  // Cache steps on the outputElement to make it available for the next call\n",
              "  // to uploadFilesContinue from Python.\n",
              "  outputElement.steps = steps;\n",
              "\n",
              "  return _uploadFilesContinue(outputId);\n",
              "}\n",
              "\n",
              "// This is roughly an async generator (not supported in the browser yet),\n",
              "// where there are multiple asynchronous steps and the Python side is going\n",
              "// to poll for completion of each step.\n",
              "// This uses a Promise to block the python side on completion of each step,\n",
              "// then passes the result of the previous step as the input to the next step.\n",
              "function _uploadFilesContinue(outputId) {\n",
              "  const outputElement = document.getElementById(outputId);\n",
              "  const steps = outputElement.steps;\n",
              "\n",
              "  const next = steps.next(outputElement.lastPromiseValue);\n",
              "  return Promise.resolve(next.value.promise).then((value) => {\n",
              "    // Cache the last promise value to make it available to the next\n",
              "    // step of the generator.\n",
              "    outputElement.lastPromiseValue = value;\n",
              "    return next.value.response;\n",
              "  });\n",
              "}\n",
              "\n",
              "/**\n",
              " * Generator function which is called between each async step of the upload\n",
              " * process.\n",
              " * @param {string} inputId Element ID of the input file picker element.\n",
              " * @param {string} outputId Element ID of the output display.\n",
              " * @return {!Iterable<!Object>} Iterable of next steps.\n",
              " */\n",
              "function* uploadFilesStep(inputId, outputId) {\n",
              "  const inputElement = document.getElementById(inputId);\n",
              "  inputElement.disabled = false;\n",
              "\n",
              "  const outputElement = document.getElementById(outputId);\n",
              "  outputElement.innerHTML = '';\n",
              "\n",
              "  const pickedPromise = new Promise((resolve) => {\n",
              "    inputElement.addEventListener('change', (e) => {\n",
              "      resolve(e.target.files);\n",
              "    });\n",
              "  });\n",
              "\n",
              "  const cancel = document.createElement('button');\n",
              "  inputElement.parentElement.appendChild(cancel);\n",
              "  cancel.textContent = 'Cancel upload';\n",
              "  const cancelPromise = new Promise((resolve) => {\n",
              "    cancel.onclick = () => {\n",
              "      resolve(null);\n",
              "    };\n",
              "  });\n",
              "\n",
              "  // Wait for the user to pick the files.\n",
              "  const files = yield {\n",
              "    promise: Promise.race([pickedPromise, cancelPromise]),\n",
              "    response: {\n",
              "      action: 'starting',\n",
              "    }\n",
              "  };\n",
              "\n",
              "  cancel.remove();\n",
              "\n",
              "  // Disable the input element since further picks are not allowed.\n",
              "  inputElement.disabled = true;\n",
              "\n",
              "  if (!files) {\n",
              "    return {\n",
              "      response: {\n",
              "        action: 'complete',\n",
              "      }\n",
              "    };\n",
              "  }\n",
              "\n",
              "  for (const file of files) {\n",
              "    const li = document.createElement('li');\n",
              "    li.append(span(file.name, {fontWeight: 'bold'}));\n",
              "    li.append(span(\n",
              "        `(${file.type || 'n/a'}) - ${file.size} bytes, ` +\n",
              "        `last modified: ${\n",
              "            file.lastModifiedDate ? file.lastModifiedDate.toLocaleDateString() :\n",
              "                                    'n/a'} - `));\n",
              "    const percent = span('0% done');\n",
              "    li.appendChild(percent);\n",
              "\n",
              "    outputElement.appendChild(li);\n",
              "\n",
              "    const fileDataPromise = new Promise((resolve) => {\n",
              "      const reader = new FileReader();\n",
              "      reader.onload = (e) => {\n",
              "        resolve(e.target.result);\n",
              "      };\n",
              "      reader.readAsArrayBuffer(file);\n",
              "    });\n",
              "    // Wait for the data to be ready.\n",
              "    let fileData = yield {\n",
              "      promise: fileDataPromise,\n",
              "      response: {\n",
              "        action: 'continue',\n",
              "      }\n",
              "    };\n",
              "\n",
              "    // Use a chunked sending to avoid message size limits. See b/62115660.\n",
              "    let position = 0;\n",
              "    do {\n",
              "      const length = Math.min(fileData.byteLength - position, MAX_PAYLOAD_SIZE);\n",
              "      const chunk = new Uint8Array(fileData, position, length);\n",
              "      position += length;\n",
              "\n",
              "      const base64 = btoa(String.fromCharCode.apply(null, chunk));\n",
              "      yield {\n",
              "        response: {\n",
              "          action: 'append',\n",
              "          file: file.name,\n",
              "          data: base64,\n",
              "        },\n",
              "      };\n",
              "\n",
              "      let percentDone = fileData.byteLength === 0 ?\n",
              "          100 :\n",
              "          Math.round((position / fileData.byteLength) * 100);\n",
              "      percent.textContent = `${percentDone}% done`;\n",
              "\n",
              "    } while (position < fileData.byteLength);\n",
              "  }\n",
              "\n",
              "  // All done.\n",
              "  yield {\n",
              "    response: {\n",
              "      action: 'complete',\n",
              "    }\n",
              "  };\n",
              "}\n",
              "\n",
              "scope.google = scope.google || {};\n",
              "scope.google.colab = scope.google.colab || {};\n",
              "scope.google.colab._files = {\n",
              "  _uploadFiles,\n",
              "  _uploadFilesContinue,\n",
              "};\n",
              "})(self);\n",
              "</script> "
            ]
          },
          "metadata": {}
        },
        {
          "output_type": "stream",
          "name": "stdout",
          "text": [
            "Saving Covid Data.csv to Covid Data.csv\n",
            "   USMER  MEDICAL_UNIT  SEX  PATIENT_TYPE   DATE_DIED  INTUBED  PNEUMONIA  \\\n",
            "0      2             1    1             1  03/05/2020       97          1   \n",
            "1      2             1    2             1  03/06/2020       97          1   \n",
            "2      2             1    2             2  09/06/2020        1          2   \n",
            "3      2             1    1             1  12/06/2020       97          2   \n",
            "4      2             1    2             1  21/06/2020       97          2   \n",
            "\n",
            "   AGE  PREGNANT  DIABETES  ...  ASTHMA  INMSUPR  HIPERTENSION  OTHER_DISEASE  \\\n",
            "0   65         2         2  ...       2        2             1              2   \n",
            "1   72        97         2  ...       2        2             1              2   \n",
            "2   55        97         1  ...       2        2             2              2   \n",
            "3   53         2         2  ...       2        2             2              2   \n",
            "4   68        97         1  ...       2        2             1              2   \n",
            "\n",
            "   CARDIOVASCULAR  OBESITY  RENAL_CHRONIC  TOBACCO  CLASIFFICATION_FINAL  ICU  \n",
            "0               2        2              2        2                     3   97  \n",
            "1               2        1              1        2                     5   97  \n",
            "2               2        2              2        2                     3    2  \n",
            "3               2        2              2        2                     7   97  \n",
            "4               2        2              2        2                     3   97  \n",
            "\n",
            "[5 rows x 21 columns]\n"
          ]
        }
      ]
    },
    {
      "cell_type": "code",
      "source": [
        "df[\"ICU\"].value_counts()"
      ],
      "metadata": {
        "colab": {
          "base_uri": "https://localhost:8080/",
          "height": 0
        },
        "id": "27CmPrgBzZMz",
        "outputId": "6fd01ab8-600f-4b65-9d78-15e61566b997"
      },
      "execution_count": 5,
      "outputs": [
        {
          "output_type": "execute_result",
          "data": {
            "text/plain": [
              "97    848544\n",
              "2     175685\n",
              "1      16858\n",
              "99      7488\n",
              "Name: ICU, dtype: int64"
            ]
          },
          "metadata": {},
          "execution_count": 5
        }
      ]
    },
    {
      "cell_type": "code",
      "source": [
        "df = df[df.ICU.isin([1,2])].copy()\n",
        "df['ICU'] = df.ICU.map({1:1, 2:0})"
      ],
      "metadata": {
        "id": "NqFOmA2KZyo7"
      },
      "execution_count": 6,
      "outputs": []
    },
    {
      "cell_type": "code",
      "source": [],
      "metadata": {
        "id": "8T5LTonUTmsk"
      },
      "execution_count": null,
      "outputs": []
    },
    {
      "cell_type": "code",
      "source": [
        "#libraries\n",
        "from pyspark.ml.evaluation import MulticlassClassificationEvaluator\n",
        "from pyspark.ml.linalg import Vectors\n",
        "from pyspark.ml.feature import VectorAssembler\n",
        "from pyspark.sql import SparkSession\n",
        "from pyspark.ml.classification import RandomForestClassifier\n",
        "from pyspark.ml import Pipeline"
      ],
      "metadata": {
        "id": "WRY-BX1V1K1N"
      },
      "execution_count": 7,
      "outputs": []
    },
    {
      "cell_type": "code",
      "source": [
        "spark = SparkSession.builder.appName('xvspark').getOrCreate()"
      ],
      "metadata": {
        "id": "APp8f8E9TPBM"
      },
      "execution_count": 8,
      "outputs": []
    },
    {
      "cell_type": "code",
      "source": [
        "df_spark = spark.createDataFrame(df)\n",
        "df_spark.show(5)"
      ],
      "metadata": {
        "colab": {
          "base_uri": "https://localhost:8080/",
          "height": 0
        },
        "id": "ZVnfsjqxToJw",
        "outputId": "362c7e2b-4b88-4e11-d74f-807d4e4c5fc9"
      },
      "execution_count": 9,
      "outputs": [
        {
          "output_type": "stream",
          "name": "stdout",
          "text": [
            "+-----+------------+---+------------+----------+-------+---------+---+--------+--------+----+------+-------+------------+-------------+--------------+-------+-------------+-------+--------------------+---+\n",
            "|USMER|MEDICAL_UNIT|SEX|PATIENT_TYPE| DATE_DIED|INTUBED|PNEUMONIA|AGE|PREGNANT|DIABETES|COPD|ASTHMA|INMSUPR|HIPERTENSION|OTHER_DISEASE|CARDIOVASCULAR|OBESITY|RENAL_CHRONIC|TOBACCO|CLASIFFICATION_FINAL|ICU|\n",
            "+-----+------------+---+------------+----------+-------+---------+---+--------+--------+----+------+-------+------------+-------------+--------------+-------+-------------+-------+--------------------+---+\n",
            "|    2|           1|  2|           2|09/06/2020|      1|        2| 55|      97|       1|   2|     2|      2|           2|            2|             2|      2|            2|      2|                   3|  0|\n",
            "|    2|           1|  1|           2|9999-99-99|      2|        1| 40|       2|       2|   2|     2|      2|           2|            2|             2|      2|            2|      2|                   3|  0|\n",
            "|    2|           1|  1|           2|9999-99-99|      2|        2| 37|       2|       1|   2|     2|      2|           1|            2|             2|      1|            2|      2|                   3|  0|\n",
            "|    2|           1|  1|           2|9999-99-99|      2|        2| 25|       2|       2|   2|     2|      2|           2|            2|             2|      2|            2|      2|                   3|  0|\n",
            "|    2|           1|  2|           2|9999-99-99|      2|        2| 24|      97|       2|   2|     2|      2|           2|            2|             2|      2|            2|      2|                   3|  0|\n",
            "+-----+------------+---+------------+----------+-------+---------+---+--------+--------+----+------+-------+------------+-------------+--------------+-------+-------------+-------+--------------------+---+\n",
            "only showing top 5 rows\n",
            "\n"
          ]
        }
      ]
    },
    {
      "cell_type": "code",
      "source": [
        "# target and feature columns\n",
        "target_column = \"ICU\"\n",
        "features = [\"PATIENT_TYPE\", \"DIABETES\", \"ASTHMA\", \"OBESITY\"]\n",
        "\n",
        "#vector assembler\n",
        "vector_assembler = VectorAssembler(\n",
        "    inputCols=features, outputCol=\"features\")\n",
        "\n",
        "# RandomForestClassifier for multi-class classification\n",
        "rf_classifier = RandomForestClassifier(labelCol=target_column, featuresCol=\"features\", numTrees=50, seed=42)\n",
        "\n",
        "# pipeline with the vector assembler and the random forest classifier\n",
        "pipeline = Pipeline(stages=[vector_assembler, rf_classifier])"
      ],
      "metadata": {
        "id": "hzPz446S02Pc"
      },
      "execution_count": 10,
      "outputs": []
    },
    {
      "cell_type": "code",
      "source": [
        "# Split the data into training and testing sets\n",
        "train_data, test_data = df_spark.randomSplit([0.8, 0.2], seed=42)"
      ],
      "metadata": {
        "id": "7kqZQx9cUVOR"
      },
      "execution_count": 11,
      "outputs": []
    },
    {
      "cell_type": "code",
      "source": [
        "train_data"
      ],
      "metadata": {
        "colab": {
          "base_uri": "https://localhost:8080/",
          "height": 0
        },
        "id": "pewg9FftVL6M",
        "outputId": "3bbba748-d43b-41a6-c345-852bdb20119d"
      },
      "execution_count": 12,
      "outputs": [
        {
          "output_type": "execute_result",
          "data": {
            "text/plain": [
              "DataFrame[USMER: bigint, MEDICAL_UNIT: bigint, SEX: bigint, PATIENT_TYPE: bigint, DATE_DIED: string, INTUBED: bigint, PNEUMONIA: bigint, AGE: bigint, PREGNANT: bigint, DIABETES: bigint, COPD: bigint, ASTHMA: bigint, INMSUPR: bigint, HIPERTENSION: bigint, OTHER_DISEASE: bigint, CARDIOVASCULAR: bigint, OBESITY: bigint, RENAL_CHRONIC: bigint, TOBACCO: bigint, CLASIFFICATION_FINAL: bigint, ICU: bigint]"
            ]
          },
          "metadata": {},
          "execution_count": 12
        }
      ]
    },
    {
      "cell_type": "code",
      "source": [
        "# Train the model\n",
        "model = pipeline.fit(train_data)\n",
        "\n",
        "# Make predictions on the test data\n",
        "predictions = model.transform(test_data)\n",
        "\n",
        "# Evaluate the model\n",
        "evaluator = MulticlassClassificationEvaluator(labelCol=target_column, metricName=\"accuracy\")\n",
        "accuracy = evaluator.evaluate(predictions)\n",
        "print(f\"Accuracy: {accuracy}\")\n",
        "\n",
        "# predictions\n",
        "predictions.select(\"ICU\", \"prediction\", *features).show()\n",
        "\n",
        "feature_importances = model.stages[-1].featureImportances\n",
        "print(\"Feature Importances:\")\n",
        "for i, feature in enumerate(features):\n",
        "    print(f\"{feature}: {feature_importances[i]}\")"
      ],
      "metadata": {
        "colab": {
          "base_uri": "https://localhost:8080/"
        },
        "id": "VVJWcxNnVL8h",
        "outputId": "9cdd606e-8b33-472d-8e5c-8590ae8f1cad"
      },
      "execution_count": null,
      "outputs": [
        {
          "output_type": "stream",
          "name": "stdout",
          "text": [
            "Accuracy: 0.9137836924596471\n",
            "+---+----------+------------+--------+------+-------+\n",
            "|ICU|prediction|PATIENT_TYPE|DIABETES|ASTHMA|OBESITY|\n",
            "+---+----------+------------+--------+------+-------+\n",
            "|  0|       0.0|         2.0|     2.0|   2.0|      2|\n",
            "|  0|       0.0|         2.0|     2.0|   2.0|      2|\n",
            "|  0|       0.0|         2.0|     2.0|   2.0|      2|\n",
            "|  0|       0.0|         2.0|     2.0|   2.0|      2|\n",
            "|  0|       0.0|         2.0|     2.0|   2.0|      2|\n",
            "|  0|       0.0|         2.0|     2.0|   2.0|      2|\n",
            "|  0|       0.0|         2.0|     2.0|   2.0|      2|\n",
            "|  0|       0.0|         2.0|     2.0|   2.0|      2|\n",
            "|  0|       0.0|         2.0|     2.0|   2.0|      1|\n",
            "|  0|       0.0|         2.0|     2.0|   2.0|      2|\n",
            "|  0|       0.0|         2.0|     2.0|   2.0|      2|\n",
            "|  0|       0.0|         2.0|     2.0|   2.0|      2|\n",
            "|  0|       0.0|         2.0|     2.0|   1.0|      2|\n",
            "|  1|       0.0|         2.0|     2.0|   2.0|      2|\n",
            "|  0|       0.0|         2.0|     1.0|   2.0|      1|\n",
            "|  0|       0.0|         2.0|     2.0|   2.0|      2|\n",
            "|  1|       0.0|         2.0|     2.0|   2.0|      1|\n",
            "|  1|       0.0|         2.0|     1.0|   2.0|      2|\n",
            "|  0|       0.0|         2.0|     2.0|   2.0|      2|\n",
            "|  1|       0.0|         2.0|     2.0|   2.0|      2|\n",
            "+---+----------+------------+--------+------+-------+\n",
            "only showing top 20 rows\n",
            "\n",
            "Feature Importances:\n",
            "PATIENT_TYPE: 0.0\n",
            "DIABETES: 0.46229269769693343\n",
            "ASTHMA: 0.16196215297255354\n",
            "OBESITY: 0.37574514933051306\n"
          ]
        }
      ]
    },
    {
      "cell_type": "code",
      "source": [
        "pdf = predictions.toPandas()"
      ],
      "metadata": {
        "id": "oBMsinhvcfGr"
      },
      "execution_count": null,
      "outputs": []
    },
    {
      "cell_type": "code",
      "source": [
        "pdf.ICU.sum()"
      ],
      "metadata": {
        "colab": {
          "base_uri": "https://localhost:8080/"
        },
        "id": "QNWtI691cfK-",
        "outputId": "455cade9-0c5b-417a-dd3c-2da0c139c754"
      },
      "execution_count": null,
      "outputs": [
        {
          "output_type": "execute_result",
          "data": {
            "text/plain": [
              "3317"
            ]
          },
          "metadata": {},
          "execution_count": 84
        }
      ]
    },
    {
      "cell_type": "code",
      "source": [
        "import matplotlib.pyplot as plt\n",
        "\n",
        "# Plotting\n",
        "plt.figure(figsize=(10, 6))\n",
        "plt.bar(features, model.stages[-1].featureImportances, color=['blue', 'green', 'red'])\n",
        "plt.title('Feature Importances')\n",
        "plt.xlabel('Features')\n",
        "plt.ylabel('Importance')\n",
        "plt.show()\n"
      ],
      "metadata": {
        "colab": {
          "base_uri": "https://localhost:8080/",
          "height": 564
        },
        "id": "_gh1MXeZ2-kO",
        "outputId": "c691cadd-d62a-42f6-ba30-6ebf57d4d1aa"
      },
      "execution_count": null,
      "outputs": [
        {
          "output_type": "display_data",
          "data": {
            "text/plain": [
              "<Figure size 1000x600 with 1 Axes>"
            ],
            "image/png": "[encoded data removed]"
          },
          "metadata": {}
        }
      ]
    },
    {
      "cell_type": "markdown",
      "source": [
        "Accuracy: 0.9769\n",
        "\n",
        "This is the overall accuracy of your model, indicating the percentage of correctly predicted instances in the test dataset. In this case, approximately 97.69% of predictions were correct.\n",
        "Prediction Table: The table shows a subset of predictions made by the model on the test dataset. It includes the actual values of the target variable (ICU), the predicted values, and the values of the selected features (PATIENT_TYPE, DIABETES, ASTHMA, and OBESITY).\n",
        "Each row represents an instance of the test data, and the columns show the actual ICU value, the predicted ICU value, and the values of the selected features.\n",
        "Feature Importances:The feature importances indicate the contribution of each feature to the model's predictions.\n",
        "PATIENT_TYPE has an importance of 98.01%\n",
        "DIABETES has an importance of 1.99%\n",
        "ASTHMA has an importance of 0.0022%\n",
        "These values represent the relative importance of each feature in making predictions. Higher values indicate greater importance.\n",
        "Visualization: The PATIENT_TYPE feature is significantly more important than the other features.\n",
        "\n",
        "The model is highly accurate, but it's important to consider the class distribution the dataset. If there is a class imbalance, high accuracy may be influenced by the model's ability to predict the dominant class.\n",
        "The PATIENT_TYPE feature is the most important, followed by DIABETES and ASTHMA. The values suggest that the model relies heavily on PATIENT_TYPE for making predictions."
      ],
      "metadata": {
        "id": "csZZjces3gfO"
      }
    },
    {
      "cell_type": "code",
      "source": [
        "from pyspark.sql.types import DoubleType"
      ],
      "metadata": {
        "id": "wVEUE2bwWXCr"
      },
      "execution_count": 13,
      "outputs": []
    },
    {
      "cell_type": "code",
      "source": [
        "#target and feature columns\n",
        "target_column = \"ICU\"\n",
        "features = [\"PATIENT_TYPE\", \"DIABETES\", \"ASTHMA\", \"OBESITY\"]\n",
        "\n",
        "# Convert feature columns to DoubleType\n",
        "for feature in features:\n",
        "    df_spark = df_spark.withColumn(feature, df_spark[feature].cast(DoubleType()))\n",
        "\n",
        "# vector assembler\n",
        "vector_assembler = VectorAssembler(inputCols=features, outputCol=\"features\")"
      ],
      "metadata": {
        "id": "XW7DZmPq49eK"
      },
      "execution_count": 14,
      "outputs": []
    },
    {
      "cell_type": "code",
      "source": [
        "from pyspark.ml.classification import LogisticRegression, DecisionTreeClassifier, GBTClassifier"
      ],
      "metadata": {
        "id": "EwLgYEo4WdfN"
      },
      "execution_count": 15,
      "outputs": []
    },
    {
      "cell_type": "code",
      "source": [
        "# classifiers\n",
        "lr_classifier = LogisticRegression(labelCol=target_column, featuresCol=\"features\", maxIter=10, regParam=0.3, elasticNetParam=0.8)\n",
        "dt_classifier = DecisionTreeClassifier(labelCol=target_column, featuresCol=\"features\")\n",
        "rf_classifier = RandomForestClassifier(labelCol=target_column, featuresCol=\"features\", numTrees=10, seed=42)\n",
        "gbt_classifier = GBTClassifier(labelCol=target_column, featuresCol=\"features\", maxIter=10, seed=42)"
      ],
      "metadata": {
        "id": "OI8YF7gp5CZD"
      },
      "execution_count": 16,
      "outputs": []
    },
    {
      "cell_type": "code",
      "source": [
        "#pipelines for each classifier\n",
        "pipeline_lr = Pipeline(stages=[vector_assembler, lr_classifier])\n",
        "pipeline_dt = Pipeline(stages=[vector_assembler, dt_classifier])\n",
        "pipeline_rf = Pipeline(stages=[vector_assembler, rf_classifier])\n",
        "pipeline_gbt = Pipeline(stages=[vector_assembler, gbt_classifier])"
      ],
      "metadata": {
        "id": "pRdXLat65FvH"
      },
      "execution_count": 17,
      "outputs": []
    },
    {
      "cell_type": "code",
      "source": [
        "# Split the data into training and testing sets\n",
        "train_data, test_data = df_spark.randomSplit([0.8, 0.2], seed=42)"
      ],
      "metadata": {
        "id": "tnz0c4lc5LAu"
      },
      "execution_count": 18,
      "outputs": []
    },
    {
      "cell_type": "code",
      "source": [
        "# Train and evaluate each model\n",
        "classifiers = [pipeline_lr, pipeline_dt, pipeline_rf, pipeline_gbt]"
      ],
      "metadata": {
        "id": "3qt_TmBP5NhF"
      },
      "execution_count": 19,
      "outputs": []
    },
    {
      "cell_type": "code",
      "source": [
        "#Evaluator\n",
        "evaluator = MulticlassClassificationEvaluator(labelCol=target_column, metricName=\"accuracy\")"
      ],
      "metadata": {
        "id": "6JmOSpJbhvnD"
      },
      "execution_count": 21,
      "outputs": []
    },
    {
      "cell_type": "code",
      "source": [
        "for model, name in zip(classifiers, ['LR', 'DT', 'RF', 'GBT']):\n",
        "  model_tr = model.fit(train_data)\n",
        "\n",
        "  # Make predictions on the test data\n",
        "  predictions = model_tr.transform(test_data)\n",
        "\n",
        "  accuracy = evaluator.evaluate(predictions)\n",
        "  print(f\"Accuracy of {name}: {accuracy}\")\n"
      ],
      "metadata": {
        "colab": {
          "base_uri": "https://localhost:8080/",
          "height": 0
        },
        "id": "z2-CKiwU9MYi",
        "outputId": "13431a01-0594-4983-fa3c-880e21db8f65"
      },
      "execution_count": 22,
      "outputs": [
        {
          "output_type": "stream",
          "name": "stdout",
          "text": [
            "Accuracy of LR: 0.9137836924596471\n",
            "Accuracy of DT: 0.9137836924596471\n",
            "Accuracy of RF: 0.9137836924596471\n",
            "Accuracy of GBT: 0.9137836924596471\n"
          ]
        }
      ]
    },
    {
      "cell_type": "code",
      "source": [
        "from pyspark.ml import Pipeline\n",
        "from pyspark.ml.evaluation import MulticlassClassificationEvaluator\n",
        "from pyspark.ml.feature import VectorAssembler\n",
        "from pyspark.ml.classification import LogisticRegression, DecisionTreeClassifier, RandomForestClassifier, GBTClassifier\n",
        "from pyspark.sql.types import DoubleType\n",
        "\n",
        "# Define the target column\n",
        "target_column = \"ICU\"\n",
        "\n",
        "# Define the features to be tested\n",
        "features_list = [\"PATIENT_TYPE\", \"DIABETES\", \"ASTHMA\", \"OBESITY\"]\n",
        "\n",
        "# Convert feature columns to DoubleType and evaluate for each feature\n",
        "for feature in features_list:\n",
        "    # Create a vector assembler\n",
        "    vector_assembler = VectorAssembler(inputCols=[feature], outputCol=\"features\")\n",
        "\n",
        "    # Create classifiers\n",
        "    lr_classifier = LogisticRegression(labelCol=target_column, featuresCol=\"features\", maxIter=10, regParam=0.3, elasticNetParam=0.8)\n",
        "    dt_classifier = DecisionTreeClassifier(labelCol=target_column, featuresCol=\"features\")\n",
        "    rf_classifier = RandomForestClassifier(labelCol=target_column, featuresCol=\"features\", numTrees=10, seed=42)\n",
        "    gbt_classifier = GBTClassifier(labelCol=target_column, featuresCol=\"features\", maxIter=10, seed=42)\n",
        "\n",
        "    # Create pipelines for each classifier\n",
        "    pipeline_lr = Pipeline(stages=[vector_assembler, lr_classifier])\n",
        "    pipeline_dt = Pipeline(stages=[vector_assembler, dt_classifier])\n",
        "    pipeline_rf = Pipeline(stages=[vector_assembler, rf_classifier])\n",
        "    pipeline_gbt = Pipeline(stages=[vector_assembler, gbt_classifier])\n",
        "\n",
        "    # Split the data into training and testing sets\n",
        "    train_data, test_data = df_spark.randomSplit([0.8, 0.2], seed=42)\n",
        "\n",
        "    # Create an evaluator\n",
        "    evaluator = MulticlassClassificationEvaluator(labelCol=target_column, metricName=\"accuracy\")\n",
        "\n",
        "    # Train and evaluate each model for the current feature\n",
        "    classifiers = [pipeline_lr, pipeline_dt, pipeline_rf, pipeline_gbt]\n",
        "\n",
        "    for model, name in zip(classifiers, ['LR', 'DT', 'RF', 'GBT']):\n",
        "        model_tr = model.fit(train_data)\n",
        "\n",
        "        # Make predictions on the test data\n",
        "        predictions = model_tr.transform(test_data)\n",
        "\n",
        "        accuracy = evaluator.evaluate(predictions)\n",
        "        print(f\"Accuracy of {name} with {feature}: {accuracy}\")\n"
      ],
      "metadata": {
        "colab": {
          "base_uri": "https://localhost:8080/",
          "height": 0
        },
        "id": "KjJMfP2piON2",
        "outputId": "ffed7973-e265-491a-9700-12a68c3d64c6"
      },
      "execution_count": 23,
      "outputs": [
        {
          "output_type": "stream",
          "name": "stdout",
          "text": [
            "Accuracy of LR with PATIENT_TYPE: 0.9137836924596471\n",
            "Accuracy of DT with PATIENT_TYPE: 0.9137836924596471\n",
            "Accuracy of RF with PATIENT_TYPE: 0.9137836924596471\n",
            "Accuracy of GBT with PATIENT_TYPE: 0.9137836924596471\n",
            "Accuracy of LR with DIABETES: 0.9137836924596471\n",
            "Accuracy of DT with DIABETES: 0.9137836924596471\n",
            "Accuracy of RF with DIABETES: 0.9137836924596471\n",
            "Accuracy of GBT with DIABETES: 0.9137836924596471\n",
            "Accuracy of LR with ASTHMA: 0.9137836924596471\n",
            "Accuracy of DT with ASTHMA: 0.9137836924596471\n",
            "Accuracy of RF with ASTHMA: 0.9137836924596471\n",
            "Accuracy of GBT with ASTHMA: 0.9137836924596471\n",
            "Accuracy of LR with OBESITY: 0.9137836924596471\n",
            "Accuracy of DT with OBESITY: 0.9137836924596471\n",
            "Accuracy of RF with OBESITY: 0.9137836924596471\n",
            "Accuracy of GBT with OBESITY: 0.9137836924596471\n"
          ]
        }
      ]
    },
    {
      "cell_type": "code",
      "source": [
        "# Show information about all columns in the DataFrame\n",
        "df_spark.show()"
      ],
      "metadata": {
        "colab": {
          "base_uri": "https://localhost:8080/",
          "height": 0
        },
        "id": "-zu_SQ4kmH4h",
        "outputId": "a2b7870a-c527-48e7-cf7e-b4a293061655"
      },
      "execution_count": 25,
      "outputs": [
        {
          "output_type": "stream",
          "name": "stdout",
          "text": [
            "+-----+------------+---+------------+----------+-------+---------+---+--------+--------+----+------+-------+------------+-------------+--------------+-------+-------------+-------+--------------------+---+\n",
            "|USMER|MEDICAL_UNIT|SEX|PATIENT_TYPE| DATE_DIED|INTUBED|PNEUMONIA|AGE|PREGNANT|DIABETES|COPD|ASTHMA|INMSUPR|HIPERTENSION|OTHER_DISEASE|CARDIOVASCULAR|OBESITY|RENAL_CHRONIC|TOBACCO|CLASIFFICATION_FINAL|ICU|\n",
            "+-----+------------+---+------------+----------+-------+---------+---+--------+--------+----+------+-------+------------+-------------+--------------+-------+-------------+-------+--------------------+---+\n",
            "|    2|           1|  2|         2.0|09/06/2020|      1|        2| 55|      97|     1.0|   2|   2.0|      2|           2|            2|             2|    2.0|            2|      2|                   3|  0|\n",
            "|    2|           1|  1|         2.0|9999-99-99|      2|        1| 40|       2|     2.0|   2|   2.0|      2|           2|            2|             2|    2.0|            2|      2|                   3|  0|\n",
            "|    2|           1|  1|         2.0|9999-99-99|      2|        2| 37|       2|     1.0|   2|   2.0|      2|           1|            2|             2|    1.0|            2|      2|                   3|  0|\n",
            "|    2|           1|  1|         2.0|9999-99-99|      2|        2| 25|       2|     2.0|   2|   2.0|      2|           2|            2|             2|    2.0|            2|      2|                   3|  0|\n",
            "|    2|           1|  2|         2.0|9999-99-99|      2|        2| 24|      97|     2.0|   2|   2.0|      2|           2|            2|             2|    2.0|            2|      2|                   3|  0|\n",
            "|    2|           1|  2|         2.0|9999-99-99|      2|        2| 30|      97|     2.0|   2|   2.0|      2|           2|            2|             2|    2.0|            2|      2|                   3|  0|\n",
            "|    2|           1|  1|         2.0|9999-99-99|      2|        1| 80|       2|     2.0|   2|   2.0|      2|           1|            2|             2|    2.0|            2|      2|                   3|  1|\n",
            "|    2|           1|  2|         2.0|9999-99-99|      2|        1| 59|      97|     1.0|   2|   2.0|      2|           2|            2|             2|    2.0|            2|      1|                   3|  1|\n",
            "|    2|           1|  2|         2.0|9999-99-99|      2|        1| 45|      97|     2.0|   2|   2.0|      2|           2|            2|             2|    2.0|            2|      2|                   3|  0|\n",
            "|    2|           1|  2|         2.0|9999-99-99|      1|        1| 45|      97|     2.0|   2|   2.0|      2|           2|            2|             2|    2.0|            2|      2|                   3|  1|\n",
            "|    2|           1|  2|         2.0|9999-99-99|      2|        2| 16|      97|     2.0|   2|   2.0|      2|           2|            2|             2|    2.0|            2|      2|                   7|  0|\n",
            "|    2|           1|  2|         2.0|9999-99-99|      2|        2| 56|      97|     2.0|   2|   2.0|      2|           2|            2|             2|    2.0|            2|      2|                   7|  0|\n",
            "|    2|           1|  1|         2.0|9999-99-99|      1|        1| 58|       2|     2.0|   2|   2.0|      2|           1|            2|             1|    1.0|            2|      2|                   7|  1|\n",
            "|    2|           1|  1|         2.0|9999-99-99|      1|        1| 48|       2|     1.0|   2|   2.0|      2|           2|            2|             2|    2.0|            2|      2|                   7|  1|\n",
            "|    2|           1|  2|         2.0|9999-99-99|      2|        1| 36|      97|     2.0|   2|   2.0|      2|           2|            2|             2|    2.0|            2|      1|                   7|  1|\n",
            "|    2|           1|  1|         2.0|9999-99-99|      2|        2| 25|       2|     2.0|   2|   2.0|      2|           2|            2|             2|    2.0|            2|      2|                   7|  0|\n",
            "|    2|           1|  1|         2.0|9999-99-99|      2|        2| 24|       2|     2.0|   2|   2.0|      2|           2|            2|             2|    2.0|            2|      2|                   7|  0|\n",
            "|    2|           1|  1|         2.0|9999-99-99|      2|        2| 25|       2|     2.0|   2|   2.0|      2|           2|            2|             2|    2.0|            2|      2|                   7|  0|\n",
            "|    2|           1|  1|         2.0|9999-99-99|      2|        2| 30|       2|     2.0|   2|   2.0|      2|           2|            1|             2|    2.0|            2|      2|                   7|  0|\n",
            "|    2|           1|  2|         2.0|9999-99-99|      2|        2| 30|      97|     1.0|   2|   2.0|      2|           2|            2|             2|    1.0|            2|      1|                   7|  0|\n",
            "+-----+------------+---+------------+----------+-------+---------+---+--------+--------+----+------+-------+------------+-------------+--------------+-------+-------------+-------+--------------------+---+\n",
            "only showing top 20 rows\n",
            "\n"
          ]
        }
      ]
    },
    {
      "cell_type": "code",
      "source": [
        "# Display the schema of the DataFrame\n",
        "df_spark.printSchema()\n"
      ],
      "metadata": {
        "colab": {
          "base_uri": "https://localhost:8080/",
          "height": 0
        },
        "id": "g7nB5Q20m5BW",
        "outputId": "0035b1a5-5929-47f3-c958-64ec1bd21942"
      },
      "execution_count": 27,
      "outputs": [
        {
          "output_type": "stream",
          "name": "stdout",
          "text": [
            "root\n",
            " |-- USMER: long (nullable = true)\n",
            " |-- MEDICAL_UNIT: long (nullable = true)\n",
            " |-- SEX: long (nullable = true)\n",
            " |-- PATIENT_TYPE: double (nullable = true)\n",
            " |-- DATE_DIED: string (nullable = true)\n",
            " |-- INTUBED: long (nullable = true)\n",
            " |-- PNEUMONIA: long (nullable = true)\n",
            " |-- AGE: long (nullable = true)\n",
            " |-- PREGNANT: long (nullable = true)\n",
            " |-- DIABETES: double (nullable = true)\n",
            " |-- COPD: long (nullable = true)\n",
            " |-- ASTHMA: double (nullable = true)\n",
            " |-- INMSUPR: long (nullable = true)\n",
            " |-- HIPERTENSION: long (nullable = true)\n",
            " |-- OTHER_DISEASE: long (nullable = true)\n",
            " |-- CARDIOVASCULAR: long (nullable = true)\n",
            " |-- OBESITY: double (nullable = true)\n",
            " |-- RENAL_CHRONIC: long (nullable = true)\n",
            " |-- TOBACCO: long (nullable = true)\n",
            " |-- CLASIFFICATION_FINAL: long (nullable = true)\n",
            " |-- ICU: long (nullable = true)\n",
            "\n"
          ]
        }
      ]
    },
    {
      "cell_type": "code",
      "source": [
        "import matplotlib.pyplot as plt\n",
        "import seaborn as sns\n",
        "from pyspark.ml.feature import VectorAssembler\n",
        "from pyspark.ml.classification import RandomForestClassifier\n",
        "from pyspark.ml import Pipeline\n",
        "from pyspark.sql import SparkSession\n",
        "\n",
        "\n",
        "spark = SparkSession.builder.appName(\"ICU_Prediction\").getOrCreate()\n",
        "\n",
        "# feature column names\n",
        "features = [\"USMER\", \"MEDICAL_UNIT\", \"SEX\", \"PATIENT_TYPE\", \"INTUBED\", \"PNEUMONIA\", \"AGE\",\n",
        "            \"PREGNANT\", \"DIABETES\", \"COPD\", \"ASTHMA\", \"INMSUPR\", \"HIPERTENSION\",\n",
        "            \"OTHER_DISEASE\", \"CARDIOVASCULAR\", \"OBESITY\", \"RENAL_CHRONIC\", \"TOBACCO\", \"CLASIFFICATION_FINAL\"]\n",
        "\n",
        "# feature columns to DoubleType\n",
        "from pyspark.sql.types import DoubleType\n",
        "\n",
        "for feature in features:\n",
        "    df_spark = df_spark.withColumn(feature, df_spark[feature].cast(DoubleType()))\n",
        "\n",
        "# vector assembler\n",
        "vector_assembler = VectorAssembler(inputCols=features, outputCol=\"features\")\n",
        "\n",
        "# RandomForestClassifier\n",
        "rf_classifier = RandomForestClassifier(labelCol=\"ICU\", featuresCol=\"features\", numTrees=10, seed=42)\n",
        "\n",
        "# pipeline with the vector assembler and the random forest classifier\n",
        "pipeline = Pipeline(stages=[vector_assembler, rf_classifier])\n",
        "\n",
        "# Train the model\n",
        "model = pipeline.fit(df_spark)\n",
        "\n",
        "# feature importances\n",
        "feature_importances = model.stages[-1].featureImportances\n",
        "\n",
        "# DataFrame with feature importances\n",
        "import pandas as pd\n",
        "\n",
        "# feature_importances is a SparseVector\n",
        "feature_importance_df = pd.DataFrame({\n",
        "    'Feature': features,\n",
        "    'Importance': feature_importances.toArray()  # Convert SparseVector to NumPy array\n",
        "})\n",
        "\n",
        "# Sort the DataFrame by importance\n",
        "sorted_feature_importance_df = feature_importance_df.sort_values(by='Importance', ascending=False)\n",
        "\n",
        "# Setting the size of the plot\n",
        "plt.figure(figsize=(12, 8))\n",
        "\n",
        "# bar plot for each feature and its importance\n",
        "sns.barplot(x=\"Importance\", y=\"Feature\", data=sorted_feature_importance_df, palette=\"viridis\")\n",
        "\n",
        "# title and labels\n",
        "plt.title('Feature Importance for Predicting ICU Admission')\n",
        "plt.xlabel('Importance')\n",
        "plt.ylabel('Feature')\n",
        "\n",
        "# Show the plot\n",
        "plt.show()\n"
      ],
      "metadata": {
        "colab": {
          "base_uri": "https://localhost:8080/",
          "height": 718
        },
        "id": "LRJH1M0_nWrO",
        "outputId": "7d4266d3-7b15-45e8-b9ff-ebab020355f4"
      },
      "execution_count": 28,
      "outputs": [
        {
          "output_type": "display_data",
          "data": {
            "text/plain": [
              "<Figure size 1200x800 with 1 Axes>"
            ],
            "image/png": "[encoded data removed]"
          },
          "metadata": {}
        }
      ]
    },
    {
      "cell_type": "code",
      "source": [
        "from pyspark.ml import Pipeline\n",
        "from pyspark.ml.evaluation import MulticlassClassificationEvaluator\n",
        "from pyspark.ml.feature import VectorAssembler\n",
        "from pyspark.ml.classification import LogisticRegression, DecisionTreeClassifier, RandomForestClassifier, GBTClassifier\n",
        "from pyspark.sql.types import DoubleType\n",
        "\n",
        "# target column\n",
        "target_column = \"ICU\"\n",
        "\n",
        "#  features to be tested (The best one I choose that has a good association with ICU)\n",
        "features_list = [\"INTUBED\", \"PNEUMONIA\", \"AGE\"]\n",
        "\n",
        "# Convert feature columns to DoubleType and evaluate for each feature\n",
        "for feature in features_list:\n",
        "    # Create a vector assembler\n",
        "    vector_assembler = VectorAssembler(inputCols=[feature], outputCol=\"features\")\n",
        "\n",
        "    # Create classifiers\n",
        "    lr_classifier = LogisticRegression(labelCol=target_column, featuresCol=\"features\", maxIter=10, regParam=0.3, elasticNetParam=0.8)\n",
        "    dt_classifier = DecisionTreeClassifier(labelCol=target_column, featuresCol=\"features\")\n",
        "    rf_classifier = RandomForestClassifier(labelCol=target_column, featuresCol=\"features\", numTrees=10, seed=42)\n",
        "    gbt_classifier = GBTClassifier(labelCol=target_column, featuresCol=\"features\", maxIter=10, seed=42)\n",
        "\n",
        "    # Create pipelines for each classifier\n",
        "    pipeline_lr = Pipeline(stages=[vector_assembler, lr_classifier])\n",
        "    pipeline_dt = Pipeline(stages=[vector_assembler, dt_classifier])\n",
        "    pipeline_rf = Pipeline(stages=[vector_assembler, rf_classifier])\n",
        "    pipeline_gbt = Pipeline(stages=[vector_assembler, gbt_classifier])\n",
        "\n",
        "    # Split the data into training and testing sets\n",
        "    train_data, test_data = df_spark.randomSplit([0.8, 0.2], seed=42)\n",
        "\n",
        "    # Create an evaluator\n",
        "    evaluator = MulticlassClassificationEvaluator(labelCol=target_column, metricName=\"accuracy\")\n",
        "\n",
        "    # Train and evaluate each model for the current feature\n",
        "    classifiers = [pipeline_lr, pipeline_dt, pipeline_rf, pipeline_gbt]\n",
        "\n",
        "    for model, name in zip(classifiers, ['LR', 'DT', 'RF', 'GBT']):\n",
        "        model_tr = model.fit(train_data)\n",
        "\n",
        "        # Make predictions on the test data\n",
        "        predictions = model_tr.transform(test_data)\n",
        "\n",
        "        accuracy = evaluator.evaluate(predictions)\n",
        "        print(f\"Accuracy of {name} with {feature}: {accuracy}\")\n"
      ],
      "metadata": {
        "colab": {
          "base_uri": "https://localhost:8080/",
          "height": 0
        },
        "id": "VU_C3ze6o1W8",
        "outputId": "49a4a68a-938a-42d4-d414-08180cbef1cf"
      },
      "execution_count": 30,
      "outputs": [
        {
          "output_type": "stream",
          "name": "stdout",
          "text": [
            "Accuracy of LR with INTUBED: 0.9137836924596471\n",
            "Accuracy of DT with INTUBED: 0.9137836924596471\n",
            "Accuracy of RF with INTUBED: 0.9137836924596471\n",
            "Accuracy of GBT with INTUBED: 0.9137836924596471\n",
            "Accuracy of LR with PNEUMONIA: 0.9137836924596471\n",
            "Accuracy of DT with PNEUMONIA: 0.9137836924596471\n",
            "Accuracy of RF with PNEUMONIA: 0.9137836924596471\n",
            "Accuracy of GBT with PNEUMONIA: 0.9137836924596471\n",
            "Accuracy of LR with AGE: 0.9137836924596471\n",
            "Accuracy of DT with AGE: 0.9137836924596471\n",
            "Accuracy of RF with AGE: 0.9137836924596471\n",
            "Accuracy of GBT with AGE: 0.9137836924596471\n"
          ]
        }
      ]
    },
    {
      "cell_type": "code",
      "source": [
        "from pyspark.ml.evaluation import BinaryClassificationEvaluator\n",
        "from itertools import combinations\n",
        "from pyspark.ml import Pipeline\n",
        "from pyspark.ml.feature import VectorAssembler\n",
        "from pyspark.ml.classification import LogisticRegression, DecisionTreeClassifier, RandomForestClassifier, GBTClassifier\n",
        "from pyspark.sql.types import DoubleType\n",
        "\n",
        "# Define the target column\n",
        "target_column = \"ICU\"\n",
        "\n",
        "# Define the features to be tested\n",
        "all_features = [\"INTUBED\", \"PNEUMONIA\", \"AGE\"]  # Add more features as needed\n",
        "\n",
        "# Convert feature columns to DoubleType\n",
        "for feature in all_features:\n",
        "    df_spark = df_spark.withColumn(feature, df_spark[feature].cast(DoubleType()))\n",
        "\n",
        "# Create an evaluator for AUC-ROC\n",
        "evaluator = BinaryClassificationEvaluator(labelCol=target_column, metricName=\"areaUnderROC\")\n",
        "\n",
        "# Iterate over different combinations of features\n",
        "for num_features in range(1, len(all_features) + 1):\n",
        "    for feature_combination in combinations(all_features, num_features):\n",
        "        # Create a vector assembler\n",
        "        vector_assembler = VectorAssembler(inputCols=list(feature_combination), outputCol=\"features\")\n",
        "\n",
        "        # Create classifiers\n",
        "        lr_classifier = LogisticRegression(labelCol=target_column, featuresCol=\"features\", maxIter=10, regParam=0.3, elasticNetParam=0.8)\n",
        "        dt_classifier = DecisionTreeClassifier(labelCol=target_column, featuresCol=\"features\")\n",
        "        rf_classifier = RandomForestClassifier(labelCol=target_column, featuresCol=\"features\", numTrees=10, seed=42)\n",
        "        gbt_classifier = GBTClassifier(labelCol=target_column, featuresCol=\"features\", maxIter=10, seed=42)\n",
        "\n",
        "        # Create pipelines for each classifier\n",
        "        pipeline_lr = Pipeline(stages=[vector_assembler, lr_classifier])\n",
        "        pipeline_dt = Pipeline(stages=[vector_assembler, dt_classifier])\n",
        "        pipeline_rf = Pipeline(stages=[vector_assembler, rf_classifier])\n",
        "        pipeline_gbt = Pipeline(stages=[vector_assembler, gbt_classifier])\n",
        "\n",
        "        # Split the data into training and testing sets\n",
        "        train_data, test_data = df_spark.randomSplit([0.8, 0.2], seed=42)\n",
        "\n",
        "        # Train and evaluate each model for the current feature combination\n",
        "        classifiers = [pipeline_lr, pipeline_dt, pipeline_rf, pipeline_gbt]\n",
        "\n",
        "        for model, name in zip(classifiers, ['LR', 'DT', 'RF', 'GBT']):\n",
        "            model_tr = model.fit(train_data)\n",
        "\n",
        "            # Make predictions on the test data\n",
        "            predictions = model_tr.transform(test_data)\n",
        "\n",
        "            # Evaluate using AUC-ROC\n",
        "            auc_roc = evaluator.evaluate(predictions)\n",
        "            print(f\"AUC-ROC of {name} with {feature_combination}: {auc_roc}\")\n"
      ],
      "metadata": {
        "colab": {
          "base_uri": "https://localhost:8080/",
          "height": 0
        },
        "id": "Q9MgzMVNphIq",
        "outputId": "ed5bc9dc-4abc-48fe-c46e-38c714d6dbd0"
      },
      "execution_count": 31,
      "outputs": [
        {
          "output_type": "stream",
          "name": "stdout",
          "text": [
            "AUC-ROC of LR with ('INTUBED',): 0.5\n",
            "AUC-ROC of DT with ('INTUBED',): 0.5\n",
            "AUC-ROC of RF with ('INTUBED',): 0.5\n",
            "AUC-ROC of GBT with ('INTUBED',): 0.7089182508571212\n",
            "AUC-ROC of LR with ('PNEUMONIA',): 0.5\n",
            "AUC-ROC of DT with ('PNEUMONIA',): 0.5\n",
            "AUC-ROC of RF with ('PNEUMONIA',): 0.5\n",
            "AUC-ROC of GBT with ('PNEUMONIA',): 0.6266740064774559\n",
            "AUC-ROC of LR with ('AGE',): 0.5\n",
            "AUC-ROC of DT with ('AGE',): 0.5\n",
            "AUC-ROC of RF with ('AGE',): 0.5\n",
            "AUC-ROC of GBT with ('AGE',): 0.5396929952214709\n",
            "AUC-ROC of LR with ('INTUBED', 'PNEUMONIA'): 0.5\n",
            "AUC-ROC of DT with ('INTUBED', 'PNEUMONIA'): 0.5\n",
            "AUC-ROC of RF with ('INTUBED', 'PNEUMONIA'): 0.5\n",
            "AUC-ROC of GBT with ('INTUBED', 'PNEUMONIA'): 0.7524306752421259\n",
            "AUC-ROC of LR with ('INTUBED', 'AGE'): 0.5\n",
            "AUC-ROC of DT with ('INTUBED', 'AGE'): 0.6604432089293517\n",
            "AUC-ROC of RF with ('INTUBED', 'AGE'): 0.7125938917740964\n",
            "AUC-ROC of GBT with ('INTUBED', 'AGE'): 0.7209295581916072\n",
            "AUC-ROC of LR with ('PNEUMONIA', 'AGE'): 0.5\n",
            "AUC-ROC of DT with ('PNEUMONIA', 'AGE'): 0.5\n",
            "AUC-ROC of RF with ('PNEUMONIA', 'AGE'): 0.5\n",
            "AUC-ROC of GBT with ('PNEUMONIA', 'AGE'): 0.6492661864275009\n",
            "AUC-ROC of LR with ('INTUBED', 'PNEUMONIA', 'AGE'): 0.5\n",
            "AUC-ROC of DT with ('INTUBED', 'PNEUMONIA', 'AGE'): 0.6472476026831165\n",
            "AUC-ROC of RF with ('INTUBED', 'PNEUMONIA', 'AGE'): 0.7574750464898895\n",
            "AUC-ROC of GBT with ('INTUBED', 'PNEUMONIA', 'AGE'): 0.7669390701089108\n"
          ]
        }
      ]
    },
    {
      "cell_type": "markdown",
      "source": [
        "Single Features: For each individual feature ('INTUBED', 'PNEUMONIA', 'AGE') when used alone, the AUC-ROC is around 0.5. AUC-ROC values close to 0.5 indicate that the model's ability to discriminate between positive and negative instances is not much better than random chance.\n",
        "Combinations of Features: When combining features, particularly with the GBT (Gradient Boosted Trees) model, the AUC-ROC values are higher than 0.5.\n",
        "The combination ('INTUBED', 'PNEUMONIA', 'AGE') has the highest AUC-ROC among the combinations tested. The value of 0.7669 suggests a moderate ability of the model to discriminate between positive and negative instances.\n",
        "GBT Model: The GBT model consistently outperforms the other models (LR, DT, RF) across different feature combinations.\n",
        "GBT is an ensemble model that combines the predictions of multiple decision trees. In this case, it seems to capture more complex relationships between features, leading to better discrimination.\n",
        "Interpretation:AUC-ROC values close to 0.5 indicate poor model performance, while values closer to 1.0 indicate better performance.\n",
        "The higher AUC-ROC for a feature or combination suggests a better ability of the model to correctly classify positive and negative instances.\n",
        "In summary, the GBT model with the feature combination ('INTUBED', 'PNEUMONIA', 'AGE') appears to be the most promising based on AUC-ROC."
      ],
      "metadata": {
        "id": "gc3siUq8rWgZ"
      }
    },
    {
      "cell_type": "code",
      "source": [
        "import matplotlib.pyplot as plt\n",
        "import pandas as pd\n",
        "\n",
        "# Assuming `df` is your Pandas DataFrame containing the data\n",
        "# Replace these columns with your actual column names\n",
        "features_of_interest = [\"INTUBED\", \"PNEUMONIA\", \"AGE\", \"ICU\"]\n",
        "\n",
        "# Select relevant columns from the DataFrame\n",
        "selected_df = df[features_of_interest]\n",
        "\n",
        "# Group by ICU and calculate the mean for each feature\n",
        "grouped_df = selected_df.groupby(\"ICU\").mean()\n",
        "\n",
        "# Plotting\n",
        "fig, axes = plt.subplots(nrows=1, ncols=len(features_of_interest)-1, figsize=(15, 5))\n",
        "\n",
        "for i, feature in enumerate(features_of_interest[:-1]):\n",
        "    grouped_df[feature].plot(kind='bar', ax=axes[i])\n",
        "    axes[i].set_title(f\"{feature} vs ICU\")\n",
        "    axes[i].set_ylabel(\"Average Value\")\n",
        "    axes[i].set_xlabel(\"ICU\")\n",
        "\n",
        "plt.tight_layout()\n",
        "plt.show()\n"
      ],
      "metadata": {
        "colab": {
          "base_uri": "https://localhost:8080/",
          "height": 527
        },
        "id": "LbcL9IANsGmW",
        "outputId": "11365433-9948-4f2a-a8bd-fa81b1c3e491"
      },
      "execution_count": 34,
      "outputs": [
        {
          "output_type": "display_data",
          "data": {
            "text/plain": [
              "<Figure size 1500x500 with 3 Axes>"
            ],
            "image/png": "[encoded data removed]"
          },
          "metadata": {}
        }
      ]
    },
    {
      "cell_type": "code",
      "source": [
        "import seaborn as sns\n",
        "import matplotlib.pyplot as plt\n",
        "\n",
        "# AUC-ROC values from your code\n",
        "auc_roc_values = [\n",
        "    [0.5, 0.5, 0.5, 0.7089],\n",
        "    [0.5, 0.5, 0.5, 0.6267],\n",
        "    [0.5, 0.5, 0.5, 0.5397],\n",
        "    [0.5, 0.5, 0.5, 0.7524],\n",
        "    [0.5, 0.5, 0.5, 0.7209],\n",
        "    [0.5, 0.5, 0.5, 0.6493],\n",
        "    [0.5, 0.5, 0.5, 0.7669]\n",
        "]\n",
        "\n",
        "# Feature combinations and models\n",
        "feature_combinations = [\n",
        "    \"('INTUBED',)\",\n",
        "    \"('PNEUMONIA',)\",\n",
        "    \"('AGE',)\",\n",
        "    \"('INTUBED', 'PNEUMONIA')\",\n",
        "    \"('INTUBED', 'AGE')\",\n",
        "    \"('PNEUMONIA', 'AGE')\",\n",
        "    \"('INTUBED', 'PNEUMONIA', 'AGE')\"\n",
        "]\n",
        "models = ['LR', 'DT', 'RF', 'GBT']\n",
        "\n",
        "# Create a DataFrame for visualization\n",
        "import pandas as pd\n",
        "\n",
        "df_heatmap = pd.DataFrame(data=auc_roc_values, columns=models, index=feature_combinations)\n",
        "\n",
        "# Create a heatmap\n",
        "plt.figure(figsize=(10, 8))\n",
        "sns.heatmap(df_heatmap, annot=True, cmap='viridis', fmt=\".4f\", linewidths=.5)\n",
        "plt.title('AUC-ROC Heatmap for Different Feature Combinations and Models')\n",
        "plt.xlabel('Models')\n",
        "plt.ylabel('Feature Combinations')\n",
        "plt.show()\n"
      ],
      "metadata": {
        "colab": {
          "base_uri": "https://localhost:8080/",
          "height": 718
        },
        "id": "CagKTGud_N1G",
        "outputId": "c851b7ea-3194-4724-f01f-a0cb77165710"
      },
      "execution_count": 39,
      "outputs": [
        {
          "output_type": "display_data",
          "data": {
            "text/plain": [
              "<Figure size 1000x800 with 2 Axes>"
            ],
            "image/png": "[encoded data removed]"
          },
          "metadata": {}
        }
      ]
    },
    {
      "cell_type": "code",
      "source": [
        "import seaborn as sns\n",
        "import matplotlib.pyplot as plt\n",
        "\n",
        "# Assuming df_spark is your Spark DataFrame\n",
        "corr_matrix = df_spark.select(all_features).toPandas().corr()\n",
        "\n",
        "plt.figure(figsize=(10, 8))\n",
        "sns.heatmap(corr_matrix, annot=True, cmap='coolwarm', fmt=\".2f\", linewidths=.5)\n",
        "plt.title('Correlation Matrix of Features')\n",
        "plt.show()\n"
      ],
      "metadata": {
        "colab": {
          "base_uri": "https://localhost:8080/",
          "height": 699
        },
        "id": "G4ju41HP_XsT",
        "outputId": "6e1c78c2-3ec2-4f7c-82f7-0bbef9c40ae3"
      },
      "execution_count": 40,
      "outputs": [
        {
          "output_type": "display_data",
          "data": {
            "text/plain": [
              "<Figure size 1000x800 with 2 Axes>"
            ],
            "image/png": "[encoded data removed]"
          },
          "metadata": {}
        }
      ]
    },
    {
      "cell_type": "code",
      "source": [
        "df_spark.show()\n"
      ],
      "metadata": {
        "colab": {
          "base_uri": "https://localhost:8080/"
        },
        "id": "snvbLvqE_uMG",
        "outputId": "26081c70-4add-48e4-f47f-5aab233592cc"
      },
      "execution_count": 43,
      "outputs": [
        {
          "output_type": "stream",
          "name": "stdout",
          "text": [
            "+-----+------------+---+------------+----------+-------+---------+----+--------+--------+----+------+-------+------------+-------------+--------------+-------+-------------+-------+--------------------+---+\n",
            "|USMER|MEDICAL_UNIT|SEX|PATIENT_TYPE| DATE_DIED|INTUBED|PNEUMONIA| AGE|PREGNANT|DIABETES|COPD|ASTHMA|INMSUPR|HIPERTENSION|OTHER_DISEASE|CARDIOVASCULAR|OBESITY|RENAL_CHRONIC|TOBACCO|CLASIFFICATION_FINAL|ICU|\n",
            "+-----+------------+---+------------+----------+-------+---------+----+--------+--------+----+------+-------+------------+-------------+--------------+-------+-------------+-------+--------------------+---+\n",
            "|  2.0|         1.0|2.0|         2.0|09/06/2020|    1.0|      2.0|55.0|    97.0|     1.0| 2.0|   2.0|    2.0|         2.0|          2.0|           2.0|    2.0|          2.0|    2.0|                 3.0|  0|\n",
            "|  2.0|         1.0|1.0|         2.0|9999-99-99|    2.0|      1.0|40.0|     2.0|     2.0| 2.0|   2.0|    2.0|         2.0|          2.0|           2.0|    2.0|          2.0|    2.0|                 3.0|  0|\n",
            "|  2.0|         1.0|1.0|         2.0|9999-99-99|    2.0|      2.0|37.0|     2.0|     1.0| 2.0|   2.0|    2.0|         1.0|          2.0|           2.0|    1.0|          2.0|    2.0|                 3.0|  0|\n",
            "|  2.0|         1.0|1.0|         2.0|9999-99-99|    2.0|      2.0|25.0|     2.0|     2.0| 2.0|   2.0|    2.0|         2.0|          2.0|           2.0|    2.0|          2.0|    2.0|                 3.0|  0|\n",
            "|  2.0|         1.0|2.0|         2.0|9999-99-99|    2.0|      2.0|24.0|    97.0|     2.0| 2.0|   2.0|    2.0|         2.0|          2.0|           2.0|    2.0|          2.0|    2.0|                 3.0|  0|\n",
            "|  2.0|         1.0|2.0|         2.0|9999-99-99|    2.0|      2.0|30.0|    97.0|     2.0| 2.0|   2.0|    2.0|         2.0|          2.0|           2.0|    2.0|          2.0|    2.0|                 3.0|  0|\n",
            "|  2.0|         1.0|1.0|         2.0|9999-99-99|    2.0|      1.0|80.0|     2.0|     2.0| 2.0|   2.0|    2.0|         1.0|          2.0|           2.0|    2.0|          2.0|    2.0|                 3.0|  1|\n",
            "|  2.0|         1.0|2.0|         2.0|9999-99-99|    2.0|      1.0|59.0|    97.0|     1.0| 2.0|   2.0|    2.0|         2.0|          2.0|           2.0|    2.0|          2.0|    1.0|                 3.0|  1|\n",
            "|  2.0|         1.0|2.0|         2.0|9999-99-99|    2.0|      1.0|45.0|    97.0|     2.0| 2.0|   2.0|    2.0|         2.0|          2.0|           2.0|    2.0|          2.0|    2.0|                 3.0|  0|\n",
            "|  2.0|         1.0|2.0|         2.0|9999-99-99|    1.0|      1.0|45.0|    97.0|     2.0| 2.0|   2.0|    2.0|         2.0|          2.0|           2.0|    2.0|          2.0|    2.0|                 3.0|  1|\n",
            "|  2.0|         1.0|2.0|         2.0|9999-99-99|    2.0|      2.0|16.0|    97.0|     2.0| 2.0|   2.0|    2.0|         2.0|          2.0|           2.0|    2.0|          2.0|    2.0|                 7.0|  0|\n",
            "|  2.0|         1.0|2.0|         2.0|9999-99-99|    2.0|      2.0|56.0|    97.0|     2.0| 2.0|   2.0|    2.0|         2.0|          2.0|           2.0|    2.0|          2.0|    2.0|                 7.0|  0|\n",
            "|  2.0|         1.0|1.0|         2.0|9999-99-99|    1.0|      1.0|58.0|     2.0|     2.0| 2.0|   2.0|    2.0|         1.0|          2.0|           1.0|    1.0|          2.0|    2.0|                 7.0|  1|\n",
            "|  2.0|         1.0|1.0|         2.0|9999-99-99|    1.0|      1.0|48.0|     2.0|     1.0| 2.0|   2.0|    2.0|         2.0|          2.0|           2.0|    2.0|          2.0|    2.0|                 7.0|  1|\n",
            "|  2.0|         1.0|2.0|         2.0|9999-99-99|    2.0|      1.0|36.0|    97.0|     2.0| 2.0|   2.0|    2.0|         2.0|          2.0|           2.0|    2.0|          2.0|    1.0|                 7.0|  1|\n",
            "|  2.0|         1.0|1.0|         2.0|9999-99-99|    2.0|      2.0|25.0|     2.0|     2.0| 2.0|   2.0|    2.0|         2.0|          2.0|           2.0|    2.0|          2.0|    2.0|                 7.0|  0|\n",
            "|  2.0|         1.0|1.0|         2.0|9999-99-99|    2.0|      2.0|24.0|     2.0|     2.0| 2.0|   2.0|    2.0|         2.0|          2.0|           2.0|    2.0|          2.0|    2.0|                 7.0|  0|\n",
            "|  2.0|         1.0|1.0|         2.0|9999-99-99|    2.0|      2.0|25.0|     2.0|     2.0| 2.0|   2.0|    2.0|         2.0|          2.0|           2.0|    2.0|          2.0|    2.0|                 7.0|  0|\n",
            "|  2.0|         1.0|1.0|         2.0|9999-99-99|    2.0|      2.0|30.0|     2.0|     2.0| 2.0|   2.0|    2.0|         2.0|          1.0|           2.0|    2.0|          2.0|    2.0|                 7.0|  0|\n",
            "|  2.0|         1.0|2.0|         2.0|9999-99-99|    2.0|      2.0|30.0|    97.0|     1.0| 2.0|   2.0|    2.0|         2.0|          2.0|           2.0|    1.0|          2.0|    1.0|                 7.0|  0|\n",
            "+-----+------------+---+------------+----------+-------+---------+----+--------+--------+----+------+-------+------------+-------------+--------------+-------+-------------+-------+--------------------+---+\n",
            "only showing top 20 rows\n",
            "\n"
          ]
        }
      ]
    },
    {
      "cell_type": "code",
      "source": [
        "# Print the column names of the DataFrame\n",
        "print(df_spark.columns)\n"
      ],
      "metadata": {
        "colab": {
          "base_uri": "https://localhost:8080/"
        },
        "id": "JqfoVyPO_7Ng",
        "outputId": "1f61cbb5-0600-4da3-be26-9361adc015a0"
      },
      "execution_count": 44,
      "outputs": [
        {
          "output_type": "stream",
          "name": "stdout",
          "text": [
            "['USMER', 'MEDICAL_UNIT', 'SEX', 'PATIENT_TYPE', 'DATE_DIED', 'INTUBED', 'PNEUMONIA', 'AGE', 'PREGNANT', 'DIABETES', 'COPD', 'ASTHMA', 'INMSUPR', 'HIPERTENSION', 'OTHER_DISEASE', 'CARDIOVASCULAR', 'OBESITY', 'RENAL_CHRONIC', 'TOBACCO', 'CLASIFFICATION_FINAL', 'ICU']\n"
          ]
        }
      ]
    }
  ]
}